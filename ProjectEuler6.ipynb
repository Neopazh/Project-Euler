{
  "nbformat": 4,
  "nbformat_minor": 0,
  "metadata": {
    "colab": {
      "name": "ProjectEuler6.ipynb",
      "provenance": [],
      "include_colab_link": true
    },
    "kernelspec": {
      "name": "python3",
      "display_name": "Python 3"
    }
  },
  "cells": [
    {
      "cell_type": "markdown",
      "metadata": {
        "id": "view-in-github",
        "colab_type": "text"
      },
      "source": [
        "<a href=\"https://colab.research.google.com/github/Neopazh/Project-Euler/blob/master/ProjectEuler6.ipynb\" target=\"_parent\"><img src=\"https://colab.research.google.com/assets/colab-badge.svg\" alt=\"Open In Colab\"/></a>"
      ]
    },
    {
      "cell_type": "code",
      "metadata": {
        "id": "9ykhpwZrFl-Q",
        "colab_type": "code",
        "colab": {
          "base_uri": "https://localhost:8080/",
          "height": 199
        },
        "outputId": "bba01252-9b49-4a01-d40e-ee494bdc2265"
      },
      "source": [
        "%pip install ipython-autotime"
      ],
      "execution_count": 7,
      "outputs": [
        {
          "output_type": "stream",
          "text": [
            "Collecting ipython-autotime\n",
            "  Downloading https://files.pythonhosted.org/packages/e6/f9/0626bbdb322e3a078d968e87e3b01341e7890544de891d0cb613641220e6/ipython-autotime-0.1.tar.bz2\n",
            "Building wheels for collected packages: ipython-autotime\n",
            "  Building wheel for ipython-autotime (setup.py) ... \u001b[?25l\u001b[?25hdone\n",
            "  Created wheel for ipython-autotime: filename=ipython_autotime-0.1-cp36-none-any.whl size=1832 sha256=760ec3cd545171ab5d9054b5a1bb6dc3409452cfbe637902223a2ccab897b633\n",
            "  Stored in directory: /root/.cache/pip/wheels/d2/df/81/2db1e54bc91002cec40334629bc39cfa86dff540b304ebcd6e\n",
            "Successfully built ipython-autotime\n",
            "Installing collected packages: ipython-autotime\n",
            "Successfully installed ipython-autotime-0.1\n"
          ],
          "name": "stdout"
        }
      ]
    },
    {
      "cell_type": "code",
      "metadata": {
        "id": "TDgAGX9BF-XI",
        "colab_type": "code",
        "colab": {}
      },
      "source": [
        "%load_ext autotime"
      ],
      "execution_count": 0,
      "outputs": []
    },
    {
      "cell_type": "code",
      "metadata": {
        "id": "BKJyNd4ZT0ZO",
        "colab_type": "code",
        "colab": {
          "base_uri": "https://localhost:8080/",
          "height": 53
        },
        "outputId": "acf8a1c9-5b50-4d2c-f58d-bdeb576b8e13"
      },
      "source": [
        "# Approach 1 : Brute force\n",
        "\n",
        "sum_sq = 0\n",
        "summ = 0\n",
        "\n",
        "for i in range(1,10001):\n",
        "  sum_sq = sum_sq + (i*i)\n",
        "  summ = summ + i\n",
        "\n",
        "diff = (summ*summ) - sum_sq\n",
        "\n",
        "print(diff)\n"
      ],
      "execution_count": 25,
      "outputs": [
        {
          "output_type": "stream",
          "text": [
            "2500166641665000\n",
            "time: 6.19 ms\n"
          ],
          "name": "stdout"
        }
      ]
    },
    {
      "cell_type": "code",
      "metadata": {
        "id": "Hs5CGgrQEb9C",
        "colab_type": "code",
        "colab": {
          "base_uri": "https://localhost:8080/",
          "height": 35
        },
        "outputId": "700524a6-3c80-4b83-da0a-7e95de24f61f"
      },
      "source": [
        "# Approach 2 : Using formula of sum\n",
        "\n",
        "def diff(n):\n",
        "  return (n*(n+1)*((3*(n*n))-n-2))/12\n",
        "\n",
        "diff(10000)"
      ],
      "execution_count": 26,
      "outputs": [
        {
          "output_type": "execute_result",
          "data": {
            "text/plain": [
              "2500166641665000.0"
            ]
          },
          "metadata": {
            "tags": []
          },
          "execution_count": 26
        },
        {
          "output_type": "stream",
          "text": [
            "time: 4.48 ms\n"
          ],
          "name": "stdout"
        }
      ]
    }
  ]
}
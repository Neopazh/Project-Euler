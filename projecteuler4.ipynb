{
  "nbformat": 4,
  "nbformat_minor": 0,
  "metadata": {
    "colab": {
      "name": "projectEuler4.ipynb",
      "provenance": [],
      "collapsed_sections": [],
      "include_colab_link": true
    },
    "kernelspec": {
      "name": "python3",
      "display_name": "Python 3"
    }
  },
  "cells": [
    {
      "cell_type": "markdown",
      "metadata": {
        "id": "view-in-github",
        "colab_type": "text"
      },
      "source": [
        "<a href=\"https://colab.research.google.com/gist/Neopazh/59de85a34713554e72724f73742b6c5e/projecteuler4.ipynb\" target=\"_parent\"><img src=\"https://colab.research.google.com/assets/colab-badge.svg\" alt=\"Open In Colab\"/></a>"
      ]
    },
    {
      "cell_type": "code",
      "metadata": {
        "id": "-leKOsvScybP",
        "colab_type": "code",
        "outputId": "c799b523-66e1-4f6c-fe77-5068b6ba507d",
        "colab": {
          "base_uri": "https://localhost:8080/",
          "height": 35
        }
      },
      "source": [
        "arr = []\n",
        "\n",
        "# This loop generates all the multiples of all 3 digit nos and store them in 'arr'\n",
        "for i in range(1000,101,-1):\n",
        "  for j in range(1000,101,-1):\n",
        "    arr.append(str(i*j))\n",
        "\n",
        "# function for palindrome\n",
        "def palindrome(intArray):\n",
        "  palindrome = []\n",
        "  flag = 0\n",
        "  for i in range(int(len(intArray)/2)):\n",
        "    if(i+1 < len(intArray)/2):\n",
        "      if(intArray[i] == intArray[-(i+1)]):\n",
        "        flag = 1\n",
        "      else:\n",
        "        flag = 0\n",
        "  return flag\n",
        "\n",
        "\n",
        "# Array to store the palindromes\n",
        "palindromeArray = []\n",
        "\n",
        "#if the number is a palindrome then it is added in the palindrome array\n",
        "for i in range(len(arr)):\n",
        "  intArray = [int(x) for x in str(arr[i])]\n",
        "  if(palindrome6(intArray)):\n",
        "    palindromeArray.append(int(arr[i]))\n",
        "  else:\n",
        "    continue\n",
        "\n",
        "# Sort the final list of all palindromes in ascending order\n",
        "palindromeArray.sort()\n",
        "\n",
        "# Reversing the list\n",
        "palindromeArray.reverse()\n",
        "\n",
        "print(palindromeArray[0])\n",
        "\n"
      ],
      "execution_count": 58,
      "outputs": [
        {
          "output_type": "stream",
          "text": [
            "906609\n"
          ],
          "name": "stdout"
        }
      ]
    }
  ]
}